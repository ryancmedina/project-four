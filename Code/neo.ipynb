{
 "cells": [
  {
   "cell_type": "code",
   "execution_count": 2,
   "id": "bf03dd8f",
   "metadata": {},
   "outputs": [],
   "source": [
    "import pandas as pd\n",
    "import numpy as np\n",
    "from sklearn.cluster import KMeans\n",
    "import folium\n",
    "from folium.plugins import HeatMap\n",
    "import matplotlib.pyplot as plt"
   ]
  },
  {
   "cell_type": "code",
   "execution_count": 3,
   "id": "6e2fda50",
   "metadata": {},
   "outputs": [],
   "source": [
    "import subprocess\n",
    "import json"
   ]
  },
  {
   "cell_type": "code",
   "execution_count": 4,
   "id": "e7945397",
   "metadata": {},
   "outputs": [
    {
     "data": {
      "text/html": [
       "<div>\n",
       "<style scoped>\n",
       "    .dataframe tbody tr th:only-of-type {\n",
       "        vertical-align: middle;\n",
       "    }\n",
       "\n",
       "    .dataframe tbody tr th {\n",
       "        vertical-align: top;\n",
       "    }\n",
       "\n",
       "    .dataframe thead th {\n",
       "        text-align: right;\n",
       "    }\n",
       "</style>\n",
       "<table border=\"1\" class=\"dataframe\">\n",
       "  <thead>\n",
       "    <tr style=\"text-align: right;\">\n",
       "      <th></th>\n",
       "      <th>id</th>\n",
       "      <th>name</th>\n",
       "      <th>absolute_magnitude_h</th>\n",
       "      <th>estimated_diameter_km_min</th>\n",
       "      <th>estimated_diameter_km_max</th>\n",
       "      <th>is_potentially_hazardous</th>\n",
       "      <th>close_approach_date</th>\n",
       "      <th>relative_velocity_kph</th>\n",
       "      <th>miss_distance_km</th>\n",
       "      <th>orbiting_body</th>\n",
       "    </tr>\n",
       "  </thead>\n",
       "  <tbody>\n",
       "    <tr>\n",
       "      <th>0</th>\n",
       "      <td>3564720</td>\n",
       "      <td>(2011 HS60)</td>\n",
       "      <td>21.29</td>\n",
       "      <td>0.146742</td>\n",
       "      <td>0.328125</td>\n",
       "      <td>False</td>\n",
       "      <td>2020-01-01</td>\n",
       "      <td>63987.979663269</td>\n",
       "      <td>29751747.345304547</td>\n",
       "      <td>Earth</td>\n",
       "    </tr>\n",
       "    <tr>\n",
       "      <th>1</th>\n",
       "      <td>3591759</td>\n",
       "      <td>(2011 YE40)</td>\n",
       "      <td>25.20</td>\n",
       "      <td>0.024241</td>\n",
       "      <td>0.054205</td>\n",
       "      <td>False</td>\n",
       "      <td>2020-01-01</td>\n",
       "      <td>46009.0330705321</td>\n",
       "      <td>9249996.309374155</td>\n",
       "      <td>Earth</td>\n",
       "    </tr>\n",
       "    <tr>\n",
       "      <th>2</th>\n",
       "      <td>3630817</td>\n",
       "      <td>(2013 EC20)</td>\n",
       "      <td>29.00</td>\n",
       "      <td>0.004213</td>\n",
       "      <td>0.009420</td>\n",
       "      <td>False</td>\n",
       "      <td>2020-01-01</td>\n",
       "      <td>10057.3249552683</td>\n",
       "      <td>24237651.402903484</td>\n",
       "      <td>Earth</td>\n",
       "    </tr>\n",
       "    <tr>\n",
       "      <th>3</th>\n",
       "      <td>3747497</td>\n",
       "      <td>(2016 EF195)</td>\n",
       "      <td>25.50</td>\n",
       "      <td>0.021113</td>\n",
       "      <td>0.047211</td>\n",
       "      <td>False</td>\n",
       "      <td>2020-01-01</td>\n",
       "      <td>63174.4052794664</td>\n",
       "      <td>41337820.22026194</td>\n",
       "      <td>Earth</td>\n",
       "    </tr>\n",
       "    <tr>\n",
       "      <th>4</th>\n",
       "      <td>3893737</td>\n",
       "      <td>(2019 WE5)</td>\n",
       "      <td>23.30</td>\n",
       "      <td>0.058151</td>\n",
       "      <td>0.130029</td>\n",
       "      <td>False</td>\n",
       "      <td>2020-01-01</td>\n",
       "      <td>18010.1706796564</td>\n",
       "      <td>20135488.775634952</td>\n",
       "      <td>Earth</td>\n",
       "    </tr>\n",
       "  </tbody>\n",
       "</table>\n",
       "</div>"
      ],
      "text/plain": [
       "        id          name  absolute_magnitude_h  estimated_diameter_km_min  \\\n",
       "0  3564720   (2011 HS60)                 21.29                   0.146742   \n",
       "1  3591759   (2011 YE40)                 25.20                   0.024241   \n",
       "2  3630817   (2013 EC20)                 29.00                   0.004213   \n",
       "3  3747497  (2016 EF195)                 25.50                   0.021113   \n",
       "4  3893737    (2019 WE5)                 23.30                   0.058151   \n",
       "\n",
       "   estimated_diameter_km_max  is_potentially_hazardous close_approach_date  \\\n",
       "0                   0.328125                     False          2020-01-01   \n",
       "1                   0.054205                     False          2020-01-01   \n",
       "2                   0.009420                     False          2020-01-01   \n",
       "3                   0.047211                     False          2020-01-01   \n",
       "4                   0.130029                     False          2020-01-01   \n",
       "\n",
       "  relative_velocity_kph    miss_distance_km orbiting_body  \n",
       "0       63987.979663269  29751747.345304547         Earth  \n",
       "1      46009.0330705321   9249996.309374155         Earth  \n",
       "2      10057.3249552683  24237651.402903484         Earth  \n",
       "3      63174.4052794664   41337820.22026194         Earth  \n",
       "4      18010.1706796564  20135488.775634952         Earth  "
      ]
     },
     "execution_count": 4,
     "metadata": {},
     "output_type": "execute_result"
    }
   ],
   "source": [
    "\n",
    "\n",
    "\n",
    "file_path = '../Resource/neo_data.json'  # Relative to current working directory\n",
    "\n",
    "# Read the JSON\n",
    "with open(file_path, 'r') as file:\n",
    "    data = json.load(file)\n",
    "\n",
    "\n",
    "# Flatten the JSON data\n",
    "df = pd.DataFrame(data)\n",
    "df.head()"
   ]
  },
  {
   "cell_type": "code",
   "execution_count": 5,
   "id": "39ae4ec8",
   "metadata": {},
   "outputs": [
    {
     "data": {
      "text/plain": [
       "id                            object\n",
       "name                          object\n",
       "absolute_magnitude_h         float64\n",
       "estimated_diameter_km_min    float64\n",
       "estimated_diameter_km_max    float64\n",
       "is_potentially_hazardous        bool\n",
       "close_approach_date           object\n",
       "relative_velocity_kph        float64\n",
       "miss_distance_km             float64\n",
       "orbiting_body                 object\n",
       "dtype: object"
      ]
     },
     "execution_count": 5,
     "metadata": {},
     "output_type": "execute_result"
    }
   ],
   "source": [
    "# Convert data types\n",
    "df['relative_velocity_kph'] = pd.to_numeric(df['relative_velocity_kph'], errors='coerce')\n",
    "df['miss_distance_km'] = pd.to_numeric(df['miss_distance_km'], errors='coerce')\n",
    "df.dtypes"
   ]
  },
  {
   "cell_type": "code",
   "execution_count": 6,
   "id": "6618c131",
   "metadata": {},
   "outputs": [],
   "source": [
    "\n",
    "#Simulate Earth-relative lat/lon (mock  data for testing)\n",
    "\n",
    "np.random.seed(42)\n",
    "df['latitude'] = np.random.uniform(-90, 90, size=len(df))\n",
    "df['longitude'] = np.random.uniform(-180, 180, size=len(df))"
   ]
  },
  {
   "cell_type": "code",
   "execution_count": 7,
   "id": "dcf0ffd6",
   "metadata": {},
   "outputs": [
    {
     "data": {
      "image/png": "[encoded data removed]",
      "text/plain": [
       "<Figure size 1000x600 with 1 Axes>"
      ]
     },
     "metadata": {},
     "output_type": "display_data"
    }
   ],
   "source": [
    "X=df[['miss_distance_km']]\n",
    "# Perform KMeans clustering\n",
    "kmeans = KMeans(n_clusters=3, random_state=42)\n",
    "# Add cluster labels to the DataFrame\n",
    "df['miss_cluster'] = kmeans.fit_predict(X)\n",
    "\n",
    "# Sort clusters by average distance (optional for clarity)\n",
    "cluster_means = df.groupby('miss_cluster')['miss_distance_km'].mean().sort_values()\n",
    "cluster_map = {old: new for new, old in enumerate(cluster_means.index)}\n",
    "df['miss_cluster'] = df['miss_cluster'].map(cluster_map)\n",
    "\n",
    "# Plot\n",
    "plt.figure(figsize=(10, 6))\n",
    "for cluster in sorted(df['miss_cluster'].unique()):\n",
    "    subset = df[df['miss_cluster'] == cluster]\n",
    "    plt.hist(subset['miss_distance_km'], bins=50, alpha=0.6, label=f'Cluster {cluster}')\n",
    "\n",
    "# Custom legend labels\n",
    "labels = [\n",
    "    \"Cluster 0 → Closest approaches\",\n",
    "    \"Cluster 1 → Moderate miss distances\",\n",
    "    \"Cluster 2 → Farthest asteroids\"\n",
    "]\n",
    "\n",
    "\n",
    "plt.xlabel(\"Miss Distance (km)\")\n",
    "plt.ylabel(\"Count\")\n",
    "plt.title(\"KMeans Clustering of Miss Distances\")\n",
    "plt.legend(labels, loc='upper right')\n",
    "plt.grid(True)\n",
    "plt.tight_layout()\n",
    "plt.show()\n",
    "\n",
    "\n"
   ]
  },
  {
   "cell_type": "code",
   "execution_count": 25,
   "id": "0718ab1b",
   "metadata": {},
   "outputs": [
    {
     "data": {
      "text/plain": [
       "<folium.plugins.heat_map.HeatMap at 0x23645a23200>"
      ]
     },
     "execution_count": 25,
     "metadata": {},
     "output_type": "execute_result"
    }
   ],
   "source": [
    "from folium.plugins import MarkerCluster\n",
    "\n",
    "#Ensure the date column is in datetime format\n",
    "df['close_approach_date'] = pd.to_datetime(df['close_approach_date'])\n",
    "df['is_potentially_hazardous'] = df['is_potentially_hazardous'].astype(int)\n",
    "\n",
    "# Filter for hazardous NEOs in 2025 only\n",
    "filtered_df = df[\n",
    "    (df['is_potentially_hazardous'] == 1) & \n",
    "    (df['close_approach_date'].dt.year == 2025) &\n",
    "    (df['miss_distance_km'] < 5000000)  # Filter for close approaches\n",
    "]\n",
    "\n",
    "\n",
    "#Plot heatmap\n",
    "m = folium.Map(location=[0, 0], zoom_start=2, tiles='CartoDB dark_matter')\n",
    "\n",
    "\n",
    "\n",
    "# Add a marker for each NEO \n",
    "\n",
    "for index, row in filtered_df.iterrows():\n",
    "    folium.Marker(\n",
    "        location=[row['latitude'], row['longitude']],\n",
    "        popup=f\"Name: {row['name']}\\nDate: {row['close_approach_date'].date()}\\nHazardous: {row['is_potentially_hazardous']}\",\n",
    "        icon=folium.Icon(color='red', icon='info-sign')\n",
    "    ).add_to(m)\n",
    "\n",
    "# Prepare heatmap data\n",
    "heat_data = [[row['latitude'], row['longitude']] for index, row in filtered_df.iterrows()]\n",
    "\n",
    "# Add heatmap\n",
    "HeatMap(heat_data, radius=20, blur=15, max_zoom=0.5).add_to(m)"
   ]
  },
  {
   "cell_type": "code",
   "execution_count": 26,
   "id": "4f740e0c",
   "metadata": {},
   "outputs": [
    {
     "name": "stdout",
     "output_type": "stream",
     "text": [
      "✅ Heatmap saved as neo_impact_heatmap.html\n"
     ]
    }
   ],
   "source": [
    "# Save map\n",
    "m.save(\"neo_impact_heatmap.html\")\n",
    "print(\"✅ Heatmap saved as neo_impact_heatmap.html\")"
   ]
  },
  {
   "cell_type": "code",
   "execution_count": null,
   "id": "b6b51336",
   "metadata": {},
   "outputs": [],
   "source": []
  },
  {
   "cell_type": "code",
   "execution_count": null,
   "id": "5a8b0e23",
   "metadata": {},
   "outputs": [],
   "source": []
  },
  {
   "cell_type": "code",
   "execution_count": null,
   "id": "c3aee3c0",
   "metadata": {},
   "outputs": [],
   "source": []
  }
 ],
 "metadata": {
  "kernelspec": {
   "display_name": "base",
   "language": "python",
   "name": "python3"
  },
  "language_info": {
   "codemirror_mode": {
    "name": "ipython",
    "version": 3
   },
   "file_extension": ".py",
   "mimetype": "text/x-python",
   "name": "python",
   "nbconvert_exporter": "python",
   "pygments_lexer": "ipython3",
   "version": "3.12.3"
  }
 },
 "nbformat": 4,
 "nbformat_minor": 5
}
